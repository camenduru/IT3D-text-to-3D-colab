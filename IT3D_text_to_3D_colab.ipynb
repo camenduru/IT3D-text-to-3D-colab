{
  "cells": [
    {
      "cell_type": "markdown",
      "metadata": {
        "id": "view-in-github"
      },
      "source": [
        "[![Open In Colab](https://colab.research.google.com/assets/colab-badge.svg)](https://colab.research.google.com/github/camenduru/IT3D-text-to-3D-colab/blob/main/IT3D_text_to_3D_colab.ipynb)"
      ]
    },
    {
      "cell_type": "code",
      "execution_count": null,
      "metadata": {
        "id": "VjYy0F2gZIPR"
      },
      "outputs": [],
      "source": [
        "%cd /content\n",
        "!git clone -b dev https://github.com/camenduru/IT3D-text-to-3D\n",
        "%cd /content/IT3D-text-to-3D\n",
        "\n",
        "!pip install -q  ninja torch-ema einops tensorboardX dearpygui huggingface_hub diffusers accelerate transformers xatlas trimesh PyMCubes pymeshlab \n",
        "!pip install -q git+https://github.com/NVlabs/nvdiffrast carvekit-colab omegaconf pytorch-lightning taming-transformers-rom1504 kornia \n",
        "!pip install -q git+https://github.com/openai/CLIP timm debugpy-run sentencepiece wandb basicsr pytorch-lightning open-clip-torch\n",
        "!pip install -q xformers==0.0.20 triton==2.0.0\n",
        "\n",
        "!apt -y install -qq aria2\n",
        "!aria2c --console-log-level=error -c -x 16 -s 16 -k 1M https://huggingface.co/camenduru/IT3D-text-to-3D/resolve/main/bro_df_ep0200.pth -d /content/IT3D-text-to-3D/ckpts -o bro_df_ep0200.pth\n",
        "!aria2c --console-log-level=error -c -x 16 -s 16 -k 1M https://huggingface.co/camenduru/IT3D-text-to-3D/resolve/main/darth_df_ep0200.pth -d /content/IT3D-text-to-3D/ckpts -o darth_df_ep0200.pth\n",
        "!aria2c --console-log-level=error -c -x 16 -s 16 -k 1M https://huggingface.co/camenduru/IT3D-text-to-3D/resolve/main/hulk_df_ep0200.pth -d /content/IT3D-text-to-3D/ckpts -o hulk_df_ep0200.pth\n",
        "!aria2c --console-log-level=error -c -x 16 -s 16 -k 1M https://huggingface.co/camenduru/IT3D-text-to-3D/resolve/main/iron_man_df_ep0400.pth -d /content/IT3D-text-to-3D/ckpts -o iron_man_df_ep0400.pth\n",
        "!aria2c --console-log-level=error -c -x 16 -s 16 -k 1M https://huggingface.co/camenduru/IT3D-text-to-3D/resolve/main/jas_df_ep0200.pth -d /content/IT3D-text-to-3D/ckpts -o jas_df_ep0200.pth\n",
        "!aria2c --console-log-level=error -c -x 16 -s 16 -k 1M https://huggingface.co/camenduru/IT3D-text-to-3D/resolve/main/rose_df_ep0200.pth -d /content/IT3D-text-to-3D/ckpts -o rose_df_ep0200.pth\n",
        "\n",
        "!aria2c --console-log-level=error -c -x 16 -s 16 -k 1M https://huggingface.co/ckpt/ControlNet-v1-1/raw/main/control_v11p_sd15_softedge.yaml -d /content/IT3D-text-to-3D/ctn_models -o control_v11p_sd15_softedge.yaml\n",
        "!aria2c --console-log-level=error -c -x 16 -s 16 -k 1M https://huggingface.co/ckpt/ControlNet-v1-1/resolve/main/control_v11p_sd15_softedge.pth -d /content/IT3D-text-to-3D/ctn_models -o control_v11p_sd15_softedge.pth\n",
        "!aria2c --console-log-level=error -c -x 16 -s 16 -k 1M https://huggingface.co/ckpt/ControlNet-v1-1/resolve/main/control_v11p_sd15_softedge_fp16.safetensors -d /content/IT3D-text-to-3D/ctn_models -o control_v11p_sd15_softedge.safetensors\n",
        "!aria2c --console-log-level=error -c -x 16 -s 16 -k 1M https://huggingface.co/runwayml/stable-diffusion-v1-5/resolve/main/v1-5-pruned-emaonly.ckpt -d /content/IT3D-text-to-3D/ctn_models -o v1-5-pruned.ckpt"
      ]
    },
    {
      "cell_type": "code",
      "execution_count": null,
      "metadata": {},
      "outputs": [],
      "source": [
        "!python main.py -O --text \"a bunch of white jasmine\" --workspace jas_ctn --ckpt ckpts/jas_df_ep0200.pth --no_cam_D --gan --ctn --g_loss_decay_begin_step 25000 --real_save_path generated_dataset/jas_ctn"
      ]
    },
    {
      "cell_type": "code",
      "execution_count": null,
      "metadata": {},
      "outputs": [],
      "source": [
        "!python main.py -O --text \"a 3D model of an iron man, highly detailed, full body\" --workspace iron_ctn --ckpt ckpts/iron_man_df_ep0400.pth --no_cam_D --gan --ctn --g_loss_decay_begin_step 45000 --real_save_path generated_dataset/iron_ctn"
      ]
    },
    {
      "cell_type": "code",
      "execution_count": null,
      "metadata": {},
      "outputs": [],
      "source": [
        "!python main.py -O --text \"Full-body 3D model of Darth Vader, highly detailed\" --workspace darth_ctn --ckpt ckpts/darth_df_ep0200.pth --no_cam_D --gan --ctn --g_loss_decay_begin_step 25000 --real_save_path generated_dataset/darth_ctn"
      ]
    },
    {
      "cell_type": "code",
      "execution_count": null,
      "metadata": {},
      "outputs": [],
      "source": [
        "!python main.py -O --text \"3D model of hulk, highly detailed\" --workspace hulk_ctn --ckpt ckpts/hulk_df_ep0200.pth --no_cam_D --gan --ctn  --g_loss_decay_begin_step 25000 --real_save_path generated_dataset/hulk_ctn"
      ]
    }
  ],
  "metadata": {
    "accelerator": "GPU",
    "colab": {
      "gpuType": "T4",
      "provenance": []
    },
    "kernelspec": {
      "display_name": "Python 3",
      "name": "python3"
    },
    "language_info": {
      "name": "python"
    }
  },
  "nbformat": 4,
  "nbformat_minor": 0
}
